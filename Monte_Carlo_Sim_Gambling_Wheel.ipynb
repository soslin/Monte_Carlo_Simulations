{
 "cells": [
  {
   "cell_type": "code",
   "execution_count": null,
   "id": "44b8a8a1",
   "metadata": {},
   "outputs": [],
   "source": [
    "Monte Carlo Simulation - Gambling Wheel"
   ]
  },
  {
   "cell_type": "markdown",
   "id": "505256ca",
   "metadata": {},
   "source": [
    "#### Monte Carlo methods are widely used heuristic techniques which can solve a variety of common problems including optimization and numerical integration problems. These algorithms work by cleverly sampling from a distribution to simulate the workings of a system. Applications range from solving problems in theoretical physics to predicting trends in financial investments."
   ]
  },
  {
   "cell_type": "code",
   "execution_count": 2,
   "id": "19649680",
   "metadata": {},
   "outputs": [],
   "source": [
    "import numpy as np\n",
    "import pandas as pd"
   ]
  },
  {
   "cell_type": "markdown",
   "id": "6597d68d",
   "metadata": {},
   "source": [
    "### Odds of house winning are 51%; odds of house losing are 49%"
   ]
  },
  {
   "cell_type": "markdown",
   "id": "11e70787",
   "metadata": {},
   "source": [
    "#### Simulating win/loss ratio"
   ]
  },
  {
   "cell_type": "code",
   "execution_count": 3,
   "id": "a61b3250",
   "metadata": {},
   "outputs": [],
   "source": [
    "def casino_roll():\n",
    "    roll = np.random.randint(1,100)\n",
    "    \n",
    "    if roll <= 50 or roll == 100:\n",
    "        print('rolled %d. You lose. House wins! Play again?'%roll)\n",
    "    elif 50 < roll < 100:\n",
    "        print('You win! On a roll!')\n",
    "        return True"
   ]
  },
  {
   "cell_type": "markdown",
   "id": "117bc89f",
   "metadata": {},
   "source": [
    "### The Dealer\n",
    "#### If the customer wins, the dealer hands over the money. If the customer losses, the dealer keeps the money for the house."
   ]
  },
  {
   "cell_type": "code",
   "execution_count": 5,
   "id": "252f8484",
   "metadata": {},
   "outputs": [],
   "source": [
    "def deal_bet(funds,initial_bet,bet_count):\n",
    "    bet = 0\n",
    "    funds_total = 0\n",
    "    while bet < bet_count:\n",
    "        if casino_roll():\n",
    "            funds += initial_bet\n",
    "        else:\n",
    "            funds -= initial_bet\n",
    "        bet +=1\n",
    "        print('Funds : %d'%funds)\n",
    "        funds_total += funds\n",
    "    print('Avg win/loss : %f'%(10000-fund_total/bet_count))"
   ]
  }
 ],
 "metadata": {
  "kernelspec": {
   "display_name": "Python 3 (ipykernel)",
   "language": "python",
   "name": "python3"
  },
  "language_info": {
   "codemirror_mode": {
    "name": "ipython",
    "version": 3
   },
   "file_extension": ".py",
   "mimetype": "text/x-python",
   "name": "python",
   "nbconvert_exporter": "python",
   "pygments_lexer": "ipython3",
   "version": "3.9.7"
  }
 },
 "nbformat": 4,
 "nbformat_minor": 5
}
